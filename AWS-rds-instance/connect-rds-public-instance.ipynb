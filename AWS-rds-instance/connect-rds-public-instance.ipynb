{
 "cells": [
  {
   "cell_type": "markdown",
   "metadata": {},
   "source": [
    "# Connection to a RDS instance\n",
    "A notebook to demonstrate the connection to an RDS instance (one a public subnet)."
   ]
  },
  {
   "cell_type": "code",
   "execution_count": 1,
   "metadata": {},
   "outputs": [],
   "source": [
    "import pymysql\n",
    "import pandas as pd"
   ]
  },
  {
   "cell_type": "code",
   "execution_count": 2,
   "metadata": {},
   "outputs": [],
   "source": [
    "# Date & time imports\n",
    "from dateutil import parser\n",
    "from dateutil.tz import tzutc, tzoffset\n",
    "from datetime import datetime, time  \n",
    "from datetime import timedelta\n",
    "from pytz import timezone"
   ]
  },
  {
   "cell_type": "markdown",
   "metadata": {},
   "source": [
    "## DB configuration parameters\n",
    "I.e. hostname, database name, username, etc."
   ]
  },
  {
   "cell_type": "code",
   "execution_count": 4,
   "metadata": {},
   "outputs": [],
   "source": [
    "host=\"database-1.chpvivqevrkc.us-east-1.rds.amazonaws.com\"\n",
    "port=3306\n",
    "dbname=\"db1\"\n",
    "user=\"didier\"\n",
    "password=\"didier\"\n",
    "table_name=\"observations\""
   ]
  },
  {
   "cell_type": "markdown",
   "metadata": {},
   "source": [
    "## Query data from RDS\n",
    "Opening a connection and using a cursor to query data."
   ]
  },
  {
   "cell_type": "code",
   "execution_count": 6,
   "metadata": {},
   "outputs": [],
   "source": [
    "connection = pymysql.connect(host,\n",
    "                       user=user,\n",
    "                       port=port,\n",
    "                       passwd=password,\n",
    "                       db=dbname)\n",
    "\n",
    "# create cursor\n",
    "cursor=connection.cursor()"
   ]
  },
  {
   "cell_type": "markdown",
   "metadata": {},
   "source": [
    "#### Get all rows for the observations date 2017-09-07T06:53:00+01:00."
   ]
  },
  {
   "cell_type": "code",
   "execution_count": 7,
   "metadata": {},
   "outputs": [
    {
     "name": "stdout",
     "output_type": "stream",
     "text": [
      "('2017-09-07T06:53:00+01:00', 22.0, 74.1888, 41.4803, 4.50007, 0.633333, 326.002, 0.0, 1012.8)\n"
     ]
    }
   ],
   "source": [
    "sql_statement = \"SELECT * FROM observations WHERE obs_date='2017-09-07T06:53:00+01:00'\"\n",
    "\n",
    "cursor.execute(sql_statement)\n",
    "\n",
    "rows = cursor.fetchall()\n",
    "for row in rows:\n",
    "    print(row)"
   ]
  },
  {
   "cell_type": "markdown",
   "metadata": {},
   "source": [
    "#### Get the date for which the temperature is above 22°C."
   ]
  },
  {
   "cell_type": "code",
   "execution_count": 9,
   "metadata": {},
   "outputs": [
    {
     "name": "stdout",
     "output_type": "stream",
     "text": [
      "('2017-09-07T09:13:00+01:00', 28.3)\n",
      "('2017-09-07T09:23:00+01:00', 28.5)\n",
      "('2017-09-07T09:27:00+01:00', 28.4167)\n",
      "('2017-09-07T09:29:00+01:00', 28.5)\n",
      "('2017-09-07T09:30:00+01:00', 28.4167)\n",
      "('2017-09-07T09:32:00+01:00', 28.3)\n",
      "('2017-09-07T09:33:00+01:00', 28.2)\n",
      "('2017-09-07T09:34:00+01:00', 28.15)\n",
      "('2017-09-07T09:35:00+01:00', 28.1)\n",
      "('2017-09-07T09:41:00+01:00', 28.1)\n",
      "('2017-09-07T09:42:00+01:00', 28.1)\n",
      "('2017-09-07T09:50:00+01:00', 28.0667)\n",
      "('2017-09-07T09:56:00+01:00', 28.2)\n",
      "('2017-09-07T09:58:00+01:00', 28.0833)\n",
      "('2017-09-07T10:10:00+01:00', 28.1)\n",
      "('2017-09-07T12:23:00+01:00', 28.1)\n",
      "('2017-09-07T12:29:00+01:00', 28.1667)\n"
     ]
    }
   ],
   "source": [
    "sql_statement = \"SELECT obs_date, temperature FROM observations WHERE temperature > 28\"\n",
    "\n",
    "cursor.execute(sql_statement)\n",
    "\n",
    "rows = cursor.fetchall()\n",
    "for row in rows:\n",
    "    print(row)"
   ]
  },
  {
   "cell_type": "code",
   "execution_count": null,
   "metadata": {},
   "outputs": [],
   "source": []
  }
 ],
 "metadata": {
  "kernelspec": {
   "display_name": "Python 3",
   "language": "python",
   "name": "python3"
  },
  "language_info": {
   "codemirror_mode": {
    "name": "ipython",
    "version": 3
   },
   "file_extension": ".py",
   "mimetype": "text/x-python",
   "name": "python",
   "nbconvert_exporter": "python",
   "pygments_lexer": "ipython3",
   "version": "3.6.9"
  }
 },
 "nbformat": 4,
 "nbformat_minor": 2
}
